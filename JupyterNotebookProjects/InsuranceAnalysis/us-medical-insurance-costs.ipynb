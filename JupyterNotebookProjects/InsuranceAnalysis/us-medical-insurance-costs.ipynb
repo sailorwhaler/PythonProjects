{
 "cells": [
  {
   "cell_type": "markdown",
   "source": [
    "# U.S. Medical Insurance Costs"
   ],
   "metadata": {}
  },
  {
   "cell_type": "markdown",
   "source": [
    "## Given a .csv of U.S. Medical Insurance Costs can we:\n",
    "\n",
    "1. Examine the average cost of insurance?\n",
    "    * Which region has the highest cost?\n",
    "    * Which region has the lowest cost?\n",
    "    * What's the highest overall cost?\n",
    "    * What's the lowest overall cost?\n",
    "    \n",
    "    \n",
    "2. Examine the average age of insurance holders.\n",
    "    * What's the highest age overall?\n",
    "    * What's the youngest age overall?\n",
    "    * Is there an oldest region?\n",
    "    * Is there a youngest region?\n",
    "    \n",
    "    \n",
    "3. Examine the BMI of the insurance holders.\n",
    "    * Is there an impact on cost for having a high/low BMI?\n",
    "    * Is there a region with a particularly high overall BMI?\n",
    "    * Is there a region with a particularly low overall BMI?\n",
    "\n",
    "\n",
    "4. Examine the impact of smoking status on cost.\n",
    "    * Does smoking mean that insurance cost is higher?\n",
    "\n",
    "\n",
    "5. Examine the impact of having children on cost.\n",
    "    * Does cost increase with the number of children?\n",
    "\n",
    "\n",
    "6. What's the average age of insurance holders' with at least one child?"
   ],
   "metadata": {}
  },
  {
   "cell_type": "code",
   "execution_count": null,
   "source": [
    "import csv"
   ],
   "outputs": [],
   "metadata": {}
  },
  {
   "cell_type": "code",
   "execution_count": null,
   "source": [
    "# Create variables (as lists) for the data contained in the .csv file\r\n",
    "age = []\r\n",
    "sex = []\r\n",
    "bmi = []\r\n",
    "num_of_children = []\r\n",
    "smoking_status = []\r\n",
    "region = []\r\n",
    "charges = []"
   ],
   "outputs": [],
   "metadata": {}
  },
  {
   "cell_type": "code",
   "execution_count": null,
   "source": [
    "# To get the data contained in the .csv file into the list variables, a function will be created that\r\n",
    "# imports the .csv file and saves it using the csv module and the DictReader method.\r\n",
    "\r\n",
    "def list_to_data(lst, csv_file, column_name):\r\n",
    "    # import and open the .csv file\r\n",
    "    with open(csv_file) as csv_info:\r\n",
    "        csv_dict = csv.DictReader(csv_info)\r\n",
    "        # Loop through the rows in the csv_dict and assign them to the list varibles\r\n",
    "        for row in csv_dict:\r\n",
    "            lst.append(row[column_name])\r\n",
    "        #return the final list\r\n",
    "        return lst"
   ],
   "outputs": [],
   "metadata": {}
  },
  {
   "cell_type": "markdown",
   "source": [
    "In order to get the information stored in the Insurance.csv file into the previously defined variables, we will\r\n",
    "call the `list_to_data` method on the list, the .csv file and title the column to match the list."
   ],
   "metadata": {}
  },
  {
   "cell_type": "code",
   "execution_count": null,
   "source": [
    "list_to_data(age, 'insurance.csv', 'age')\r\n",
    "list_to_data(sex, 'insurance.csv', 'sex')\r\n",
    "list_to_data(bmi, 'insurance.csv', 'bmi')\r\n",
    "list_to_data(num_of_children, 'insurance.csv', 'children')\r\n",
    "list_to_data(smoking_status, 'insurance.csv', 'smoker')\r\n",
    "list_to_data(region, 'insurance.csv', 'region')\r\n",
    "list_to_data(charges, 'insurance.csv', 'charges')"
   ],
   "outputs": [],
   "metadata": {}
  }
 ],
 "metadata": {
  "kernelspec": {
   "display_name": "Python 3 (ipykernel)",
   "language": "python",
   "name": "python3"
  },
  "language_info": {
   "codemirror_mode": {
    "name": "ipython",
    "version": 3
   },
   "file_extension": ".py",
   "mimetype": "text/x-python",
   "name": "python",
   "nbconvert_exporter": "python",
   "pygments_lexer": "ipython3",
   "version": "3.8.6"
  }
 },
 "nbformat": 4,
 "nbformat_minor": 4
}