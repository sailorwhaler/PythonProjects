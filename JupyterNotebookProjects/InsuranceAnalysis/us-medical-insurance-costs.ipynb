{
 "cells": [
  {
   "cell_type": "markdown",
   "source": [
    "# U.S. Medical Insurance Costs"
   ],
   "metadata": {}
  },
  {
   "cell_type": "markdown",
   "source": [
    "## Given a .csv of U.S. Medical Insurance Costs can we:\r\n",
    "\r\n",
    "1. Examine the average cost of insurance?\r\n",
    "    * Which region has the highest cost?\r\n",
    "    * Which region has the lowest cost?\r\n",
    "    * What's the highest overall cost?\r\n",
    "    * What's the lowest overall cost? \r\n",
    "    \r\n",
    "    <br>\r\n",
    "2. Examine the average age of insurance holders.\r\n",
    "    * What's the highest age overall?\r\n",
    "    * What's the youngest age overall?\r\n",
    "    * Is there an oldest region?\r\n",
    "    * Is there a youngest region?\r\n",
    "    \r\n",
    "    <br>\r\n",
    "3. Examine the BMI of the insurance holders.\r\n",
    "    * What is the average BMI?\r\n",
    "    * Is there a region with a particularly high overall BMI?\r\n",
    "    * Is there a region with a particularly low overall BMI?\r\n",
    "    \r\n",
    "    <br>\r\n",
    "4. Examine the impact of smoking status on cost.\r\n",
    "    * Does smoking mean that insurance cost is higher?\r\n",
    "    \r\n",
    "    <br>\r\n",
    "5. Examine the impact of having children on cost.\r\n",
    "    * Does cost increase with the number of children?\r\n",
    "    \r\n",
    "    <br>\r\n",
    "6. What's the average age of insurance holders' with at least one child?"
   ],
   "metadata": {}
  },
  {
   "cell_type": "code",
   "execution_count": 16,
   "source": [
    "import csv\r\n",
    "from collections import Counter"
   ],
   "outputs": [],
   "metadata": {}
  },
  {
   "cell_type": "code",
   "execution_count": 17,
   "source": [
    "# Create variables (as lists) for the data contained in the .csv file\r\n",
    "age = []\r\n",
    "sex = []\r\n",
    "bmi = []\r\n",
    "num_of_children = []\r\n",
    "smoking_status = []\r\n",
    "region = []\r\n",
    "charges = []"
   ],
   "outputs": [],
   "metadata": {}
  },
  {
   "cell_type": "code",
   "execution_count": 18,
   "source": [
    "# To get the data contained in the .csv file into the list variables, a function will be created that\r\n",
    "# imports the .csv file and saves it using the csv module and the DictReader method.\r\n",
    "\r\n",
    "def list_to_data(lst, csv_file, column_name):\r\n",
    "    # import and open the .csv file\r\n",
    "    with open(csv_file, 'r') as csv_info:\r\n",
    "        csv_dict = csv.DictReader(csv_info)\r\n",
    "        # Loop through the rows in the csv_dict and assign them to the list varibles\r\n",
    "        for row in csv_dict:\r\n",
    "            lst.append(row[column_name])\r\n",
    "        #return the final list\r\n",
    "        return lst"
   ],
   "outputs": [],
   "metadata": {}
  },
  {
   "cell_type": "markdown",
   "source": [
    "In order to get the information stored in the Insurance.csv file into the previously defined variables, we will\r\n",
    "call the `list_to_data` method on the list, the .csv file and title the column to match the list."
   ],
   "metadata": {}
  },
  {
   "cell_type": "code",
   "execution_count": 19,
   "source": [
    "ages = list_to_data(age, 'insurance.csv', 'age')\r\n",
    "sexes = list_to_data(sex, 'insurance.csv', 'sex')\r\n",
    "bmis = list_to_data(bmi, 'insurance.csv', 'bmi')\r\n",
    "num_of_children = list_to_data(num_of_children, 'insurance.csv', 'children')\r\n",
    "smoking_status = list_to_data(smoking_status, 'insurance.csv', 'smoker')\r\n",
    "regions = list_to_data(region, 'insurance.csv', 'region')\r\n",
    "cost = list_to_data(charges, 'insurance.csv', 'charges')\r\n"
   ],
   "outputs": [],
   "metadata": {}
  },
  {
   "cell_type": "markdown",
   "source": [
    "We now have organized, labeled lists of data to analyze. <br>\r\n",
    "\r\n",
    "In order to analyze the data collected, we will need to build out functions that will perform the analysis on the lists and return the desired value - either an average or a total.\r\n",
    "* Analyze cost\r\n",
    "    * return the average cost of insurance\r\n",
    "    * return the average cost per region\r\n",
    "    * return the highest and lowest cost\r\n",
    "* Analyze age\r\n",
    "    * return the average age of an insurance holder\r\n",
    "    * return the average age per region\r\n",
    "    * return the highest and lowest ages\r\n",
    "* Analyze BMI\r\n",
    "    * return the average overall BMI \r\n",
    "    * return the average BMI per region\r\n",
    "* Analyze smoking_status\r\n",
    "    * return how many smokers vs non-smokers\r\n",
    "    * return the cost difference between smokers vs non-smokers\r\n",
    "* Analyze children\r\n",
    "    * return the average cost of insurance as number of children increases \r\n",
    "    * return the average age of an insurance holder who has at least one child\r\n",
    "     <br>\r\n",
    "\r\n",
    "Since a good deal of what we want to look at are averages (average cost, average age, average BMI, etc.) a helper function would be useful. We could then use that function to determine the averages and save them to their own variables for later use if necessary.\r\n",
    "\r\n",
    "Another helper function that may be useful is one that will return the highest and lowest data points in a list. \r\n",
    "These returned values can also be stored for later use if necessary.\r\n",
    "\r\n",
    "A class may also be useful in analyzing some of the other data. \r\n"
   ],
   "metadata": {}
  },
  {
   "cell_type": "code",
   "execution_count": 20,
   "source": [
    "# This helper function will determine the highest and lowest values in a given list\r\n",
    "def find_high_low(lst):\r\n",
    "    # set two variables to track our highest and lowest values\r\n",
    "    highest = float('-inf')\r\n",
    "    lowest = float('inf')\r\n",
    "    # iterate through the list\r\n",
    "    for item in lst:\r\n",
    "        # if the item is higher than our highest variable, we assign that item to it\r\n",
    "        if float(item) > float(highest):\r\n",
    "            highest = item\r\n",
    "        if float(item) < float(lowest):\r\n",
    "            lowest = item\r\n",
    "    # finally we return our variables\r\n",
    "    return highest, lowest\r\n"
   ],
   "outputs": [],
   "metadata": {}
  },
  {
   "cell_type": "code",
   "execution_count": 21,
   "source": [
    "# The `find_high_low` function can be used to save the highest and lowest values into variables with names corresponding\r\n",
    "# to the list passed for later use if necessary\r\n",
    "\r\n",
    "highest_lowest_cost = find_high_low(cost)\r\n",
    "highest_lowest_age = find_high_low(ages)\r\n",
    "highest_lowest_bmi = find_high_low(bmis)\r\n",
    "\r\n",
    "print(\"The highest and lowest cost of insurance are: {highest_lowest_cost}\".format(highest_lowest_cost=highest_lowest_cost))\r\n",
    "print(\"The oldest and youngest insurance holders are: {highest_lowest_age}\".format(highest_lowest_age=highest_lowest_age))\r\n",
    "print(\"The highest and lowest BMIs are: {highest_lowest_bmi}\".format(highest_lowest_bmi=highest_lowest_bmi))"
   ],
   "outputs": [
    {
     "output_type": "stream",
     "name": "stdout",
     "text": [
      "The highest and lowest cost of insurance are: ('63770.42801', '1121.8739')\n",
      "The oldest and youngest insurance holders are: ('64', '18')\n",
      "The highest and lowest BMIs are: ('53.13', '15.96')\n"
     ]
    }
   ],
   "metadata": {}
  },
  {
   "cell_type": "markdown",
   "source": [
    "It may be helpful to have a list containing all of the data organized by patient as well. A patient for example would be the first datapoint in each of our lists:<br>\r\n",
    "    **Patient1 = {'Age': ages[0], 'Sex': sexes[0], 'BMI': bmis[0], 'Children': num_of_children[0], 'Smoker': smoking_status[0], 'Region': regions[0], 'Charges': cost[0]}**\r\n",
    "This would be repeated for each row of data and contained in a list, allowing for comparison of multiple points"
   ],
   "metadata": {}
  },
  {
   "cell_type": "code",
   "execution_count": 22,
   "source": [
    "# A Class will be built that takes in information of the Patient (our seven data lists)\r\n",
    "class Patient_Info:\r\n",
    "    def __init__(self, age_list, sex_list, bmi_list, children_list, smoking_list, region_list, cost_list):\r\n",
    "        self.age = age_list\r\n",
    "        self.sex = sex_list\r\n",
    "        self.bmi = bmi_list\r\n",
    "        self.children = children_list\r\n",
    "        self.smoking_status = smoking_list\r\n",
    "        self.regions = region_list\r\n",
    "        self.cost = cost_list\r\n",
    "        self.all_patient_info = []\r\n",
    "        self.southwest = []\r\n",
    "        self.southeast = []\r\n",
    "        self.northwest = []\r\n",
    "        self.northeast = []\r\n",
    "\r\n",
    "    # The first function will merge together all of our data into a list, making it easier to access and compare \r\n",
    "    # later on\r\n",
    "    def build_patient_list(self):\r\n",
    "        for i in range(len(self.age)):\r\n",
    "            patient = {\"Age\": self.age[i], 'Sex': self.sex[i], 'BMI': self.bmi[i], 'Children': self.children[i], 'Smoker': self.smoking_status[i],\r\n",
    "            'Region': self.regions[i], 'Charges': self.cost[i]}\r\n",
    "            self.all_patient_info.append(patient)\r\n",
    "\r\n",
    "    # We should also have lists of these patients sorted by region, since a lot of our data will make comparisons\r\n",
    "    # between regions\r\n",
    "    def build_region_lists(self):\r\n",
    "        #Look at every patient in the patient list\r\n",
    "        for patient in self.all_patient_info:\r\n",
    "            # if a patient matches a designated region, put that patient in a corrresponding region appropriate list\r\n",
    "            if patient['Region'] == 'southwest':\r\n",
    "                self.southwest.append(patient)\r\n",
    "            elif patient['Region'] == 'southeast':\r\n",
    "                self.southeast.append(patient)\r\n",
    "            elif patient['Region'] == 'northwest':\r\n",
    "                self.northwest.append(patient)\r\n",
    "            else:\r\n",
    "                self.northeast.append(patient)\r\n",
    "    \r\n",
    "\r\n",
    "    # This function will help find the average of a given item in our dictionary\r\n",
    "    def find_average(self, lst, string):\r\n",
    "        # Create a running total\r\n",
    "        total = 0\r\n",
    "        # iterate through every item in the list\r\n",
    "        for item in lst:\r\n",
    "            # add that item's subvalue to total as a float \r\n",
    "            total += float(item[string])\r\n",
    "        # divide the total by the length of the list and return it to find the average, rounded to the second decimal\r\n",
    "        return round(total / len(lst), 2)\r\n",
    "\r\n",
    "    # The next  three functions will all use the previously created helper function to determine the average\r\n",
    "    # of an item in a certain region. We will pass in the region we wish to examine in the function call.\r\n",
    "    def avg_cost_per_region(self, region_list):\r\n",
    "        return self.find_average(region_list, \"Charges\")\r\n",
    "\r\n",
    "    def avg_bmi_per_region(self, region_list):\r\n",
    "        return self.find_average(region_list, \"BMI\")\r\n",
    "    \r\n",
    "    def avg_age_per_region(self, region_list):\r\n",
    "        return self.find_average(region_list, 'Age')\r\n",
    "\r\n",
    "    # This function will count the number of smokers vs non-smokers\r\n",
    "    def num_smokers(self):\r\n",
    "        # Create a Counter object to hold our smoker v non-smoker info\r\n",
    "        self.smokers = Counter()\r\n",
    "        # Iterate through our patient data\r\n",
    "        for patient in self.all_patient_info:\r\n",
    "            # if a patient has a 'yes' under their 'Smoker' key, assign it to the 'yes' key of our Counter\r\n",
    "            if patient['Smoker'] == 'yes':\r\n",
    "                self.smokers['yes'] += 1\r\n",
    "            # Otherwise, add the patient to our 'no' key of our Counter\r\n",
    "            else:\r\n",
    "                self.smokers['no'] += 1\r\n",
    "        # Return our Counter object with the total number of smokers vs non-smokers\r\n",
    "        return self.smokers\r\n",
    "\r\n",
    "    # This function will give us the difference in charges for a smoker and a non-smoker\r\n",
    "    def cost_difference_smokers(self):\r\n",
    "        # Create two varibles to track total charges for a smoker and a non-smoker\r\n",
    "        yes_total = 0\r\n",
    "        no_total = 0\r\n",
    "        # Iterate through our patient data\r\n",
    "        for patient in self.all_patient_info:\r\n",
    "            # if the patient responded 'yes' to being a smoker we'll increase the 'yes_total' variable by their charge\r\n",
    "            if patient['Smoker'] == 'yes':\r\n",
    "                yes_total += float(patient['Charges'])\r\n",
    "            # Otherwise we'll add the charge to the 'no_total'\r\n",
    "            else:\r\n",
    "                no_total += float(patient['Charges'])\r\n",
    "        # We can return the difference of charges between the two rounded to the second decimal\r\n",
    "        print('The difference in charge between smokers and non-smokers is $' + str(round(abs(yes_total - no_total), 2))\r\n",
    "        + ' with smokers totalling $' + str(round(yes_total, 2)) + ' and non-smokers totalling $' + str(round(no_total, 2)) + '.')\r\n",
    "    \r\n",
    "    # We want to see what the avg charge is per number of children\r\n",
    "    def cost_per_child(self):\r\n",
    "        # Create two Counters to handle our number of children and our charges per number\r\n",
    "        num_children = Counter()\r\n",
    "        charges_per_child = Counter()\r\n",
    "        # Go through our list of patients\r\n",
    "        for patient in self.all_patient_info:\r\n",
    "            # Add the number of children to the appropriate counter, the key will be the number of children with the \r\n",
    "            #value being the response number for that amount\r\n",
    "            num_children[patient['Children']] += 1\r\n",
    "            # Here we add the charges associated with a particular response for children\r\n",
    "            charges_per_child[patient['Children']] += float(patient['Charges'])\r\n",
    "        \r\n",
    "        # Counters can't be divided by other counters so we'll make two lists containing our values, one for\r\n",
    "        # children and one for the charges\r\n",
    "        child = [value for value in sorted(num_children.values())]\r\n",
    "        charge = [value for value in sorted(charges_per_child.values())]\r\n",
    "        # We'll divide the charge by the number of children after combining our lists\r\n",
    "        avg =  [round(charge/child, 2) for (child, charge) in list(zip(child, charge))]\r\n",
    "        # Finally, we can return the average charge associated with having a set number of children\r\n",
    "        print(avg)\r\n",
    "        \r\n",
    "    # This function will help us determine the avg age of the parents in our data\r\n",
    "    def age_of_parents(self):\r\n",
    "        # Start by setting a Counter to track the ages of our parents\r\n",
    "        parent_ages = Counter()\r\n",
    "        # Go through our patient list\r\n",
    "        for patient in self.all_patient_info:\r\n",
    "            # If the patient has at least one child we'll continue\r\n",
    "            if patient['Children'] != 0:\r\n",
    "                # We will add the parent's age as a key and add the total number of children who have a parent that age\r\n",
    "                # as a value\r\n",
    "                parent_ages[patient['Age']] += int(patient['Children'])\r\n",
    "        # Finally, we return the most common age of our parent Counter\r\n",
    "        return parent_ages.most_common()[0][0]\r\n",
    "\r\n"
   ],
   "outputs": [],
   "metadata": {}
  },
  {
   "cell_type": "markdown",
   "source": [
    "Now that the Class is built out we can create an instance of it and call the functions within to see what insights our data holds."
   ],
   "metadata": {}
  },
  {
   "cell_type": "code",
   "execution_count": 23,
   "source": [
    "#Create an instance of our class\r\n",
    "Patient = Patient_Info(ages, sexes, bmis, num_of_children, smoking_status, regions, cost)"
   ],
   "outputs": [],
   "metadata": {}
  },
  {
   "cell_type": "markdown",
   "source": [
    "We now have an instance of our Patient_Info Class! Within that class we had two functions that built lists in a particular way, the .build_patient_list function and the .build_region_lists function; the next step is to create these two lists to use for the analysis we want to perform."
   ],
   "metadata": {}
  },
  {
   "cell_type": "code",
   "execution_count": 24,
   "source": [
    "# Create our patient and region lists for future use. Both of these order our patient data in a particular way. \r\n",
    "# The first one sorts it by patient and the second one creates lists based on what region our patients live in.\r\n",
    "Patient.build_patient_list()\r\n",
    "Patient.build_region_lists()"
   ],
   "outputs": [],
   "metadata": {}
  },
  {
   "cell_type": "markdown",
   "source": [
    "We'll start running through the desired analysis now, starting from the top of our previous list:\r\n",
    "\r\n",
    "    * Analyze cost\r\n",
    "        * return the average cost of insurance\r\n",
    "        * return the average cost per region\r\n",
    "        * return the highest and lowest cost"
   ],
   "metadata": {}
  },
  {
   "cell_type": "code",
   "execution_count": 25,
   "source": [
    "# We can use the .find_average function to help with the first question. \r\n",
    "# We pass in Patient.all_patient_info as that is the variable created by our class constructor to hold all of \r\n",
    "# our patient data, including charges. The string 'Charges' gets passed in to tell our function that we want to \r\n",
    "# examine all of the charges contained within our patient list.\r\n",
    "\r\n",
    "Patient.find_average(Patient.all_patient_info, 'Charges')"
   ],
   "outputs": [
    {
     "output_type": "execute_result",
     "data": {
      "text/plain": [
       "13270.42"
      ]
     },
     "metadata": {},
     "execution_count": 25
    }
   ],
   "metadata": {}
  },
  {
   "cell_type": "code",
   "execution_count": 26,
   "source": [
    "# We can use the .cost_per_region to find the second one. We need to pass in Patient.region_name for each region. \r\n",
    "# This is because each region list is a variable created by the constructor of the Patient_Info class.\r\n",
    "\r\n",
    "northwest = Patient.avg_cost_per_region(Patient.northwest)\r\n",
    "northeast = Patient.avg_cost_per_region(Patient.northeast)\r\n",
    "southwest = Patient.avg_cost_per_region(Patient.southwest)\r\n",
    "southeast = Patient.avg_cost_per_region(Patient.southeast)\r\n",
    "\r\n",
    "print(northwest, northeast, southwest, southeast, sep='\\n')"
   ],
   "outputs": [
    {
     "output_type": "stream",
     "name": "stdout",
     "text": [
      "12417.58\n",
      "13406.38\n",
      "12346.94\n",
      "14735.41\n"
     ]
    }
   ],
   "metadata": {}
  },
  {
   "cell_type": "code",
   "execution_count": 27,
   "source": [
    "# Finding the highest and lowest cost was handled above with the highest_lowest function. \r\n",
    "# But it can be formatted here for readability. \r\n",
    "\r\n",
    "print(\"The highest cost for insurance is $\" + str(highest_lowest_cost[0] + \" while the lowest cost is $\" +\r\n",
    "str(highest_lowest_cost[1]) +\".\"))"
   ],
   "outputs": [
    {
     "output_type": "stream",
     "name": "stdout",
     "text": [
      "The highest cost for insurance is $63770.42801 while the lowest cost is $1121.8739.\n"
     ]
    }
   ],
   "metadata": {}
  },
  {
   "cell_type": "markdown",
   "source": [
    "Our next group of questions involved mostly looking at the ages of the insurance holders.\r\n",
    "\r\n",
    "    * Analyze age\r\n",
    "        * return the average age of an insurance holder\r\n",
    "        * return the average age per region\r\n",
    "        * return the highest and lowest ages\r\n"
   ],
   "metadata": {}
  },
  {
   "cell_type": "code",
   "execution_count": 28,
   "source": [
    "# Again we can use the helper function within the class to examine the average age of the policy holders.\r\n",
    "# This time however instead of passing in 'Charges' as our string we will pass in 'Age' as we wish to \r\n",
    "# examine the average age of all of our policy holders.\r\n",
    "\r\n",
    "Patient.find_average(Patient.all_patient_info, 'Age')"
   ],
   "outputs": [
    {
     "output_type": "execute_result",
     "data": {
      "text/plain": [
       "39.21"
      ]
     },
     "metadata": {},
     "execution_count": 28
    }
   ],
   "metadata": {}
  },
  {
   "cell_type": "code",
   "execution_count": 29,
   "source": [
    "# There is also a function that handles the average age per region. Again we will pass in the Patient.region_name\r\n",
    "# for each region in order to find the average age per region.\r\n",
    "\r\n",
    "northwest = Patient.avg_age_per_region(Patient.northwest)\r\n",
    "northeast = Patient.avg_age_per_region(Patient.northeast)\r\n",
    "southwest = Patient.avg_age_per_region(Patient.southwest)\r\n",
    "southeast = Patient.avg_age_per_region(Patient.southeast)\r\n",
    "print(northwest, northeast, southwest, southeast)"
   ],
   "outputs": [
    {
     "output_type": "stream",
     "name": "stdout",
     "text": [
      "39.2 39.27 39.46 38.94\n"
     ]
    }
   ],
   "metadata": {}
  },
  {
   "cell_type": "code",
   "execution_count": 31,
   "source": [
    "# The highest_lowest helper function has already been used to find our highest and lowest agest, \r\n",
    "# we will format the output here.\r\n",
    "\r\n",
    "print(\"The oldest insurance holder is \" + str(highest_lowest_age[0]) + \", and the youngest is \" + str(highest_lowest_age[1])\r\n",
    " + \". \")"
   ],
   "outputs": [
    {
     "output_type": "stream",
     "name": "stdout",
     "text": [
      "The oldest insurance holder is 64, and the youngest is 18. \n"
     ]
    }
   ],
   "metadata": {}
  },
  {
   "cell_type": "markdown",
   "source": [
    "The next section tackles the BMI of our insurance holders.\r\n",
    "\r\n",
    "    * Analyze BMI\r\n",
    "        * return the average overall BMI \r\n",
    "        * return the average BMI per region\r\n"
   ],
   "metadata": {}
  },
  {
   "cell_type": "code",
   "execution_count": 32,
   "source": [
    "# This time we'll pass in 'BMI' as our string to find the average BMI of our policy holders.\r\n",
    "\r\n",
    "Patient.find_average(Patient.all_patient_info, 'BMI')"
   ],
   "outputs": [
    {
     "output_type": "execute_result",
     "data": {
      "text/plain": [
       "30.66"
      ]
     },
     "metadata": {},
     "execution_count": 32
    }
   ],
   "metadata": {}
  },
  {
   "cell_type": "code",
   "execution_count": 33,
   "source": [
    "# Again we will create regional variables and pass in the Patient.region_name to find the average BMI per region\r\n",
    "# using the .avg_bmi_per_region function of the Patient_Info class.\r\n",
    "\r\n",
    "northwest = Patient.avg_bmi_per_region(Patient.northwest)\r\n",
    "northeast = Patient.avg_bmi_per_region(Patient.northeast)\r\n",
    "southwest = Patient.avg_bmi_per_region(Patient.southwest)\r\n",
    "southeast = Patient.avg_bmi_per_region(Patient.southeast)\r\n",
    "\r\n",
    "print(northwest, northeast, southwest, southeast)"
   ],
   "outputs": [
    {
     "output_type": "stream",
     "name": "stdout",
     "text": [
      "29.2 29.17 30.6 33.36\n"
     ]
    }
   ],
   "metadata": {}
  },
  {
   "cell_type": "markdown",
   "source": [
    "The `.avg_cost_per_region`, `.avg_age_per_region`, and `.avg_bmi_per_region` all function using the `.find_average` function created within the class. They all however just handle the string parameter differently; we essentially sort the region list by a value we wish to examine and eliminate the need to repeate the same process for everything within the class. "
   ],
   "metadata": {}
  },
  {
   "cell_type": "markdown",
   "source": [
    "Our next questions revolved around smokers. \r\n",
    "\r\n",
    "    * Analyze smoking_status\r\n",
    "        * return how many smokers vs non-smokers\r\n",
    "        * return the cost difference between smokers vs non-smokers\r\n"
   ],
   "metadata": {}
  },
  {
   "cell_type": "code",
   "execution_count": 36,
   "source": [
    "# The Patient_Info Class has a function, .num_smokers which uses a Counter to tell us how many yes/no responses we \r\n",
    "# received in regard to this value in our patient list.\r\n",
    "\r\n",
    "Patient.num_smokers()"
   ],
   "outputs": [
    {
     "output_type": "execute_result",
     "data": {
      "text/plain": [
       "Counter({'yes': 274, 'no': 1064})"
      ]
     },
     "metadata": {},
     "execution_count": 36
    }
   ],
   "metadata": {}
  },
  {
   "cell_type": "markdown",
   "source": [
    "The above code shows us that we clearly have fewer smokers than non-smokers! "
   ],
   "metadata": {}
  },
  {
   "cell_type": "code",
   "execution_count": 37,
   "source": [
    "# There is also a .cost_difference_smoker function within the class that shows the difference in charges \r\n",
    "# between smokers and non-smokers.\r\n",
    "\r\n",
    "Patient.cost_difference_smokers()\r\n"
   ],
   "outputs": [
    {
     "output_type": "stream",
     "name": "stdout",
     "text": [
      "The difference in charge between smokers and non-smokers is $192297.95 with smokers totalling $8781763.52 and non-smokers totalling $8974061.47.\n"
     ]
    }
   ],
   "metadata": {}
  },
  {
   "cell_type": "markdown",
   "source": [
    "So while there are 274 smokers, they're paying almost as much as 1064 non-smokers!!"
   ],
   "metadata": {}
  },
  {
   "cell_type": "markdown",
   "source": [
    "Finally, our last questions involved children.\r\n",
    "\r\n",
    "    * Analyze children\r\n",
    "        * return the average cost of insurance as number of children increases \r\n",
    "        * return the average age of an insurance holder who has at least one child"
   ],
   "metadata": {}
  },
  {
   "cell_type": "code",
   "execution_count": 40,
   "source": [
    "# The first question can be answered using the .cost_per_child function of the Patient_Info Class.\r\n",
    "# It returns the average cost associated with having a number of children answered by our policy holders \r\n",
    "# sorted from having no children to having 5 children\r\n",
    "\r\n",
    "Patient.cost_per_child()"
   ],
   "outputs": [
    {
     "output_type": "stream",
     "name": "stdout",
     "text": [
      "[8786.04, 13850.66, 15355.32, 15073.56, 12731.17, 12365.98]\n"
     ]
    }
   ],
   "metadata": {}
  },
  {
   "cell_type": "code",
   "execution_count": 41,
   "source": [
    "# The last question is found using the .age_of_parents function which counts how many policy holders have\r\n",
    "# at least one child, and then returns the age with the most number of children.\r\n",
    "\r\n",
    "Patient.age_of_parents()"
   ],
   "outputs": [
    {
     "output_type": "execute_result",
     "data": {
      "text/plain": [
       "'39'"
      ]
     },
     "metadata": {},
     "execution_count": 41
    }
   ],
   "metadata": {}
  }
 ],
 "metadata": {
  "kernelspec": {
   "name": "python3",
   "display_name": "Python 3.8.6 64-bit"
  },
  "language_info": {
   "codemirror_mode": {
    "name": "ipython",
    "version": 3
   },
   "file_extension": ".py",
   "mimetype": "text/x-python",
   "name": "python",
   "nbconvert_exporter": "python",
   "pygments_lexer": "ipython3",
   "version": "3.8.6"
  },
  "interpreter": {
   "hash": "759600ca41b88558a1de11797958f695352a92c751be90f41edfab1dface9d7f"
  }
 },
 "nbformat": 4,
 "nbformat_minor": 4
}