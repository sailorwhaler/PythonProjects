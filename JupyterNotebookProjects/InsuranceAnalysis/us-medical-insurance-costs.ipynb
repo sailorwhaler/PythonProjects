{
 "cells": [
  {
   "cell_type": "markdown",
   "source": [
    "# U.S. Medical Insurance Costs"
   ],
   "metadata": {}
  },
  {
   "cell_type": "markdown",
   "source": [
    "## Given a .csv of U.S. Medical Insurance Costs can we:\r\n",
    "\r\n",
    "1. Examine the average cost of insurance?\r\n",
    "    * Which region has the highest cost?\r\n",
    "    * Which region has the lowest cost?\r\n",
    "    * What's the highest overall cost?\r\n",
    "    * What's the lowest overall cost? \r\n",
    "    \r\n",
    "    <br>\r\n",
    "2. Examine the average age of insurance holders.\r\n",
    "    * What's the highest age overall?\r\n",
    "    * What's the youngest age overall?\r\n",
    "    * Is there an oldest region?\r\n",
    "    * Is there a youngest region?\r\n",
    "    \r\n",
    "    <br>\r\n",
    "3. Examine the BMI of the insurance holders.\r\n",
    "    * What is the average BMI?\r\n",
    "    * Is there a region with a particularly high overall BMI?\r\n",
    "    * Is there a region with a particularly low overall BMI?\r\n",
    "    \r\n",
    "    <br>\r\n",
    "4. Examine the impact of smoking status on cost.\r\n",
    "    * Does smoking mean that insurance cost is higher?\r\n",
    "    \r\n",
    "    <br>\r\n",
    "5. Examine the impact of having children on cost.\r\n",
    "    * Does cost increase with the number of children?\r\n",
    "    \r\n",
    "    <br>\r\n",
    "6. What's the average age of insurance holders' with at least one child?"
   ],
   "metadata": {}
  },
  {
   "cell_type": "code",
   "execution_count": 10,
   "source": [
    "import csv"
   ],
   "outputs": [],
   "metadata": {}
  },
  {
   "cell_type": "code",
   "execution_count": 11,
   "source": [
    "# Create variables (as lists) for the data contained in the .csv file\r\n",
    "age = []\r\n",
    "sex = []\r\n",
    "bmi = []\r\n",
    "num_of_children = []\r\n",
    "smoking_status = []\r\n",
    "region = []\r\n",
    "charges = []"
   ],
   "outputs": [],
   "metadata": {}
  },
  {
   "cell_type": "code",
   "execution_count": 12,
   "source": [
    "# To get the data contained in the .csv file into the list variables, a function will be created that\r\n",
    "# imports the .csv file and saves it using the csv module and the DictReader method.\r\n",
    "\r\n",
    "def list_to_data(lst, csv_file, column_name):\r\n",
    "    # import and open the .csv file\r\n",
    "    with open(csv_file) as csv_info:\r\n",
    "        csv_dict = csv.DictReader(csv_info)\r\n",
    "        # Loop through the rows in the csv_dict and assign them to the list varibles\r\n",
    "        for row in csv_dict:\r\n",
    "            lst.append(row[column_name])\r\n",
    "        #return the final list\r\n",
    "        return lst"
   ],
   "outputs": [],
   "metadata": {}
  },
  {
   "cell_type": "markdown",
   "source": [
    "In order to get the information stored in the Insurance.csv file into the previously defined variables, we will\r\n",
    "call the `list_to_data` method on the list, the .csv file and title the column to match the list."
   ],
   "metadata": {}
  },
  {
   "cell_type": "code",
   "execution_count": 13,
   "source": [
    "ages = list_to_data(age, 'insurance.csv', 'age')\r\n",
    "sexes = list_to_data(sex, 'insurance.csv', 'sex')\r\n",
    "bmis = list_to_data(bmi, 'insurance.csv', 'bmi')\r\n",
    "num_of_children = list_to_data(num_of_children, 'insurance.csv', 'children')\r\n",
    "smoking_status = list_to_data(smoking_status, 'insurance.csv', 'smoker')\r\n",
    "regions = list_to_data(region, 'insurance.csv', 'region')\r\n",
    "cost = list_to_data(charges, 'insurance.csv', 'charges')\r\n"
   ],
   "outputs": [],
   "metadata": {}
  },
  {
   "cell_type": "markdown",
   "source": [
    "We now have organized, labeled lists of data to analyze. <br>\r\n",
    "\r\n",
    "In order to analyze the data collected, we will need to build out functions that will perform the analysis on the lists and return the desired value - either an average or a total.\r\n",
    "* Analyze cost\r\n",
    "    * return the average cost of insurance\r\n",
    "    * return the average cost per region\r\n",
    "    * return the highest and lowest cost\r\n",
    "* Analyze age\r\n",
    "    * return the average age of an insurance holder\r\n",
    "    * return the average age per region\r\n",
    "    * return the highest and lowest ages\r\n",
    "* Analyze BMI\r\n",
    "    * return the average overall BMI \r\n",
    "    * return the average BMI per region\r\n",
    "* Analyze smoking_status\r\n",
    "    * return how many smokers vs non-smokers\r\n",
    "    * return the cost difference between smokers vs non-smokers\r\n",
    "* Analyze children\r\n",
    "    * return the average cost of insurance as number of children increases \r\n",
    "    * return the average age of an insurance holder who has at least one child\r\n",
    "     <br>\r\n",
    "\r\n",
    "Since a good deal of what we want to look at are averages (average cost, average age, average BMI, etc.) a helper function would be useful. We could then use that function to determine the averages and save them to their own variables for later use if necessary.\r\n",
    "\r\n",
    "Another helper function that may be useful is one that will return the highest and lowest data points in a list. \r\n",
    "These returned values can also be stored for later use if necessary.\r\n",
    "\r\n",
    "A class may also be useful in analyzing some of the other data. \r\n"
   ],
   "metadata": {}
  },
  {
   "cell_type": "code",
   "execution_count": 14,
   "source": [
    "# A helper function to find the average would be incredibly helpful since we want to see a lot of averages\r\n",
    "# and creating multiple functions that essential do the same thing is repetitive\r\n",
    "\r\n",
    "def find_average(lst):\r\n",
    "    # Create a running total\r\n",
    "    total = 0\r\n",
    "    # iterate through every item in the list\r\n",
    "    for item in lst:\r\n",
    "        # add that item to total as a float \r\n",
    "        total += float(item)\r\n",
    "    # divide the total by the length of the list and return it to find the average, rounded to the second decimal\r\n",
    "    return round(total / len(lst), 2)\r\n"
   ],
   "outputs": [],
   "metadata": {}
  },
  {
   "cell_type": "code",
   "execution_count": 15,
   "source": [
    "# We can then use this function to save the averages to variables with corresponding names for later use \r\n",
    "# if necessary.\r\n",
    "avg_cost = find_average(cost)\r\n",
    "avg_age = find_average(ages)\r\n",
    "avg_bmi = find_average(bmis)\r\n",
    "\r\n",
    "print(\"The average cost of insurance is ${avg_cost}.\".format(avg_cost=avg_cost))\r\n",
    "print(\"The average age of insurance holders per our data is {avg_age} years old.\".format(avg_age=avg_age))\r\n",
    "print(\"The average BMI of insurance holders per our data is {avg_bmi}.\".format(avg_bmi=avg_bmi))"
   ],
   "outputs": [
    {
     "output_type": "stream",
     "name": "stdout",
     "text": [
      "The average cost of insurance is $13270.42.\n",
      "The average age of insurance holders per our data is 39.21 years old.\n",
      "The average BMI of insurance holders per our data is 30.66.\n"
     ]
    }
   ],
   "metadata": {}
  },
  {
   "cell_type": "code",
   "execution_count": 16,
   "source": [
    "# The second helper function will determine the highest and lowest values in a given list\r\n",
    "def find_high_low(lst):\r\n",
    "    # set two variables to track our highest and lowest values\r\n",
    "    highest = float('-inf')\r\n",
    "    lowest = float('inf')\r\n",
    "    # iterate through the list\r\n",
    "    for item in lst:\r\n",
    "        # if the item is higher than our highest variable, we assign that item to it\r\n",
    "        if float(item) > float(highest):\r\n",
    "            highest = item\r\n",
    "        if float(item) < float(lowest):\r\n",
    "            lowest = item\r\n",
    "    # finally we return our variables\r\n",
    "    return highest, lowest\r\n"
   ],
   "outputs": [],
   "metadata": {}
  },
  {
   "cell_type": "code",
   "execution_count": 17,
   "source": [
    "# The `find_high_low` function can be used to save the highest and lowest values into variables with names corresponding\r\n",
    "# to the list passed for later use if necessary\r\n",
    "\r\n",
    "highest_lowest_cost = find_high_low(cost)\r\n",
    "highest_lowest_age = find_high_low(ages)\r\n",
    "highest_lowest_bmi = find_high_low(bmis)\r\n",
    "\r\n",
    "print(\"The highest and lowest cost of insurance are: {highest_lowest_cost}\".format(highest_lowest_cost=highest_lowest_cost))\r\n",
    "print(\"The oldest and youngest insurance holders are: {highest_lowest_age}\".format(highest_lowest_age=highest_lowest_age))\r\n",
    "print(\"The highest and lowest BMIs are: {highest_lowest_bmi}\".format(highest_lowest_bmi=highest_lowest_bmi))"
   ],
   "outputs": [
    {
     "output_type": "stream",
     "name": "stdout",
     "text": [
      "The highest and lowest cost of insurance are: ('63770.42801', '1121.8739')\n",
      "The oldest and youngest insurance holders are: ('64', '18')\n",
      "The highest and lowest BMIs are: ('53.13', '15.96')\n"
     ]
    }
   ],
   "metadata": {}
  },
  {
   "cell_type": "markdown",
   "source": [
    "Before we build our class that will handle the rest of the analysis, we want to have a dictionary that will hold the bulk of our data. The key for this dictionary will be a number assigned from 0 to the length of the file. The value will be a list containing the pertinent data (i.e. age, sex, bmi, etc.)."
   ],
   "metadata": {}
  },
  {
   "cell_type": "code",
   "execution_count": null,
   "source": [
    "# A Class will be built that takes in information of the Patient (our seven data lists)\r\n",
    "class Patient_Info:\r\n",
    "    def __init__(self, age_list, sex_list, bmi_list, children_list, smoking_list, region_list, cost_list):\r\n",
    "        self.age = age_list\r\n",
    "        self.sex = sex_list\r\n",
    "        self.bmi = bmi_list\r\n",
    "        self.children = children_list\r\n",
    "        self.smoking_status = smoking_list\r\n",
    "        self.regions = region_list\r\n",
    "        self.cost = cost_list\r\n",
    "\r\n",
    "    \r\n",
    "\r\n",
    "Patient = Patient_Info(ages, sexes, bmis, num_of_children, smoking_status, regions, cost)"
   ],
   "outputs": [],
   "metadata": {}
  }
 ],
 "metadata": {
  "kernelspec": {
   "name": "python3",
   "display_name": "Python 3.8.6 64-bit"
  },
  "language_info": {
   "codemirror_mode": {
    "name": "ipython",
    "version": 3
   },
   "file_extension": ".py",
   "mimetype": "text/x-python",
   "name": "python",
   "nbconvert_exporter": "python",
   "pygments_lexer": "ipython3",
   "version": "3.8.6"
  },
  "interpreter": {
   "hash": "759600ca41b88558a1de11797958f695352a92c751be90f41edfab1dface9d7f"
  }
 },
 "nbformat": 4,
 "nbformat_minor": 4
}