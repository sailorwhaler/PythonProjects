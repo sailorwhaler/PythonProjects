{
 "cells": [
  {
   "cell_type": "markdown",
   "source": [
    "# Animal Crosing New Horizons Data Analysis\r\n",
    "\r\n",
    "ACNH is the latest installment of the Animal Crossing franchise by Nintendo released in March of 2020; it's a \"life simulation\" game whereby a character can build and create a home on an island filled with animals all having various personalities! There's no right way of playing this game as there's a load of options for interactions with the various villagers that will eventually move onto and off of the players' island, as well as customization options for the player's own house. There's also the possibility of having more bells (the in game currency) than imaginable!\r\n",
    "\r\n",
    "Kaggle.com has a dataset made of 30 tables about this game, containing information ranging from villages to items broken down by category. \r\n",
    "\r\n",
    "Given some of these datasets I'd like to find some insights regarding the villagers and the economy of the island.\r\n",
    "\r\n",
    "\r\n",
    "1. What's the distribution of genders across the villagers?\r\n",
    "    * What are their potential personality types?\r\n",
    "    * What are the species of the villagers?\r\n",
    "    * What are their hobbies?\r\n",
    "2. What items can be DIY'd?\r\n",
    "    * Is it profitable to DIY items that can be bought in Nook's Cranny (the island's store) or from Tom Nook (the island's manager)?\r\n",
    "3. What is the highest selling item the player can find that can be sold?"
   ],
   "metadata": {}
  },
  {
   "cell_type": "code",
   "execution_count": 1,
   "source": [
    "# First import the libaries that will be used throughout the project\r\n",
    "\r\n",
    "import numpy as np\r\n",
    "import pandas as pd\r\n",
    "from matplotlib import pyplot as plt\r\n",
    "import seaborn as sns\r\n"
   ],
   "outputs": [],
   "metadata": {}
  }
 ],
 "metadata": {
  "language_info": {
   "name": "python",
   "version": "3.8.6",
   "mimetype": "text/x-python",
   "codemirror_mode": {
    "name": "ipython",
    "version": 3
   },
   "pygments_lexer": "ipython3",
   "nbconvert_exporter": "python",
   "file_extension": ".py"
  },
  "kernelspec": {
   "name": "python3",
   "display_name": "Python 3.8.6 64-bit"
  },
  "interpreter": {
   "hash": "759600ca41b88558a1de11797958f695352a92c751be90f41edfab1dface9d7f"
  }
 },
 "nbformat": 4,
 "nbformat_minor": 5
}