{
 "cells": [
  {
   "cell_type": "markdown",
   "source": [
    "# Life Expectancy And GPD"
   ],
   "metadata": {}
  },
  {
   "cell_type": "markdown",
   "source": [
    "## Given as .csv file containing data involving life expectancies and GDPs of countries can we:\r\n",
    "\r\n",
    "1. See if there's a correlation between life expectancy and GDP\r\n",
    "2. Do certain countries have a higher life expectancy?\r\n",
    "    * If so is their GDP also higher?\r\n",
    "3. Has life expectancy and/or GDP increased over time?\r\n",
    "4. What is the average life expectancy across the nations included?\r\n",
    "5. What is the distribution of that life expectancy? "
   ],
   "metadata": {}
  },
  {
   "cell_type": "code",
   "execution_count": 1,
   "source": [
    "# To start we need to import the libraries that we'll use\r\n",
    "import pandas as pd\r\n",
    "from matplotlib import pyplot as plt\r\n",
    "import seaborn as sns"
   ],
   "outputs": [],
   "metadata": {}
  },
  {
   "cell_type": "code",
   "execution_count": 2,
   "source": [
    "# Next we'll load our data\r\n",
    "\r\n",
    "life_expectancy_gdp = pd.read_csv('all_data.csv')"
   ],
   "outputs": [],
   "metadata": {}
  },
  {
   "cell_type": "code",
   "execution_count": 3,
   "source": [
    "# We need to examine it to make sure that it was properly loaded, as well as to get a feel for what it looks like.\r\n",
    "\r\n",
    "print(life_expectancy_gdp.head())"
   ],
   "outputs": [
    {
     "output_type": "stream",
     "name": "stdout",
     "text": [
      "  Country  Year  Life expectancy at birth (years)           GDP\n",
      "0   Chile  2000                              77.3  7.786093e+10\n",
      "1   Chile  2001                              77.3  7.097992e+10\n",
      "2   Chile  2002                              77.8  6.973681e+10\n",
      "3   Chile  2003                              77.9  7.564346e+10\n",
      "4   Chile  2004                              78.0  9.921039e+10\n"
     ]
    }
   ],
   "metadata": {}
  },
  {
   "cell_type": "code",
   "execution_count": 4,
   "source": [
    "# Looking at the column names, maybe we want to rename some of them. \r\n",
    "\r\n",
    "life_expectancy_gdp.rename(columns={\r\n",
    "    'Life expectancy at birth (years)' : 'Life_expectancy'\r\n",
    "}, inplace=True)\r\n",
    "\r\n",
    "print(life_expectancy_gdp.head())"
   ],
   "outputs": [
    {
     "output_type": "stream",
     "name": "stdout",
     "text": [
      "  Country  Year  Life_expectancy           GDP\n",
      "0   Chile  2000             77.3  7.786093e+10\n",
      "1   Chile  2001             77.3  7.097992e+10\n",
      "2   Chile  2002             77.8  6.973681e+10\n",
      "3   Chile  2003             77.9  7.564346e+10\n",
      "4   Chile  2004             78.0  9.921039e+10\n"
     ]
    }
   ],
   "metadata": {}
  },
  {
   "cell_type": "markdown",
   "source": [
    "## Before we can answer our questions about life expectancy and GDP, we should explore.\r\n",
    "\r\n",
    "1. How many countries are represented? (We can only see Chile currently.)\r\n",
    "2. How many years are present? (We can only see 5 currently.)"
   ],
   "metadata": {}
  },
  {
   "cell_type": "code",
   "execution_count": 12,
   "source": [
    "# To see how many countries are represented in our data we can use .unique (to see which Countries by name)\r\n",
    "print(life_expectancy_gdp.Country.unique())\r\n"
   ],
   "outputs": [
    {
     "output_type": "stream",
     "name": "stdout",
     "text": [
      "['Chile' 'China' 'Germany' 'Mexico' 'United States of America' 'Zimbabwe']\n"
     ]
    }
   ],
   "metadata": {}
  },
  {
   "cell_type": "code",
   "execution_count": 13,
   "source": [
    "# The same method can be used to see how many years we have collected data for.\r\n",
    "\r\n",
    "print(life_expectancy_gdp.Year.unique())"
   ],
   "outputs": [
    {
     "output_type": "stream",
     "name": "stdout",
     "text": [
      "[2000 2001 2002 2003 2004 2005 2006 2007 2008 2009 2010 2011 2012 2013\n",
      " 2014 2015]\n"
     ]
    }
   ],
   "metadata": {}
  }
 ],
 "metadata": {
  "kernelspec": {
   "name": "python3",
   "display_name": "Python 3.8.6 64-bit"
  },
  "language_info": {
   "codemirror_mode": {
    "name": "ipython",
    "version": 3
   },
   "file_extension": ".py",
   "mimetype": "text/x-python",
   "name": "python",
   "nbconvert_exporter": "python",
   "pygments_lexer": "ipython3",
   "version": "3.8.6"
  },
  "interpreter": {
   "hash": "759600ca41b88558a1de11797958f695352a92c751be90f41edfab1dface9d7f"
  }
 },
 "nbformat": 4,
 "nbformat_minor": 4
}